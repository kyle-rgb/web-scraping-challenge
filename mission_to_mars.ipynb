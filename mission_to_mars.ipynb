{
 "cells": [
  {
   "cell_type": "code",
   "execution_count": 1,
   "metadata": {},
   "outputs": [],
   "source": [
    "import pandas as pd\n",
    "import numpy as np\n",
    "import bs4, requests"
   ]
  },
  {
   "cell_type": "code",
   "execution_count": 2,
   "metadata": {},
   "outputs": [],
   "source": [
    "mars_news_url = r\"https://mars.nasa.gov/news/8744/nasa-engineers-checking-insights-weather-sensors/\""
   ]
  },
  {
   "cell_type": "code",
   "execution_count": 3,
   "metadata": {},
   "outputs": [],
   "source": [
    "response = requests.get(mars_news_url, \"lxml\")"
   ]
  },
  {
   "cell_type": "code",
   "execution_count": 4,
   "metadata": {},
   "outputs": [],
   "source": [
    "soup = bs4.BeautifulSoup(response.text)"
   ]
  },
  {
   "cell_type": "code",
   "execution_count": 5,
   "metadata": {},
   "outputs": [
    {
     "data": {
      "text/plain": [
       "3"
      ]
     },
     "execution_count": 5,
     "metadata": {},
     "output_type": "execute_result"
    }
   ],
   "source": [
    "len(soup)"
   ]
  },
  {
   "cell_type": "code",
   "execution_count": 6,
   "metadata": {},
   "outputs": [],
   "source": [
    "news_title = soup.select(\"h1\")[0].text"
   ]
  },
  {
   "cell_type": "code",
   "execution_count": 7,
   "metadata": {},
   "outputs": [
    {
     "data": {
      "text/plain": [
       "\"\\nNASA Engineers Checking InSight's Weather Sensors\\n\""
      ]
     },
     "execution_count": 7,
     "metadata": {},
     "output_type": "execute_result"
    }
   ],
   "source": [
    "news_title "
   ]
  },
  {
   "cell_type": "code",
   "execution_count": 8,
   "metadata": {},
   "outputs": [],
   "source": [
    "news_title = news_title.strip()"
   ]
  },
  {
   "cell_type": "code",
   "execution_count": 9,
   "metadata": {},
   "outputs": [
    {
     "data": {
      "text/plain": [
       "[<i>:</i>,\n",
       " <i>An electronics issue is suspected to be preventing the sensors from sharing their data about Mars weather with the spacecraft.</i>]"
      ]
     },
     "execution_count": 9,
     "metadata": {},
     "output_type": "execute_result"
    }
   ],
   "source": [
    "soup.select(\"p > i\")"
   ]
  },
  {
   "cell_type": "code",
   "execution_count": 10,
   "metadata": {},
   "outputs": [],
   "source": [
    "blurb_text = soup.select(\"p > i\")[1].text"
   ]
  },
  {
   "cell_type": "markdown",
   "metadata": {},
   "source": [
    "#### JPL Mars Space Images"
   ]
  },
  {
   "cell_type": "code",
   "execution_count": 11,
   "metadata": {},
   "outputs": [],
   "source": [
    "images_url = r\"https://www.jpl.nasa.gov/spaceimages/?search=&category=Mars\"\n",
    "base_url = r\"https://www.jpl.nasa.gov\""
   ]
  },
  {
   "cell_type": "code",
   "execution_count": 12,
   "metadata": {},
   "outputs": [],
   "source": [
    "response_img = requests.get(images_url, \"lxml\")"
   ]
  },
  {
   "cell_type": "code",
   "execution_count": 13,
   "metadata": {},
   "outputs": [],
   "source": [
    "soupier = bs4.BeautifulSoup(response_img.text)"
   ]
  },
  {
   "cell_type": "code",
   "execution_count": 14,
   "metadata": {},
   "outputs": [
    {
     "data": {
      "text/plain": [
       "[<div class=\"img\">\n",
       " <img alt=\"Curiosity Spots a Dust Devil in the Hills\" class=\"thumb\" src=\"/spaceimages/images/wallpaper/PIA24039-640x350.jpg\" title=\"Curiosity Spots a Dust Devil in the Hills\"/>\n",
       " </div>,\n",
       " <div class=\"img\">\n",
       " <img alt=\"Near Elysium Mons\" class=\"thumb\" src=\"/spaceimages/images/wallpaper/PIA24082-640x350.jpg\" title=\"Near Elysium Mons\"/>\n",
       " </div>,\n",
       " <div class=\"img\">\n",
       " <img alt=\"Candor Chasma - False Color\" class=\"thumb\" src=\"/spaceimages/images/wallpaper/PIA24081-640x350.jpg\" title=\"Candor Chasma - False Color\"/>\n",
       " </div>,\n",
       " <div class=\"img\">\n",
       " <img alt=\"Mawrth Vallis - False Color\" class=\"thumb\" src=\"/spaceimages/images/wallpaper/PIA24079-640x350.jpg\" title=\"Mawrth Vallis - False Color\"/>\n",
       " </div>,\n",
       " <div class=\"img\">\n",
       " <img alt=\"Candor Chasma - False Color\" class=\"thumb\" src=\"/spaceimages/images/wallpaper/PIA24078-640x350.jpg\" title=\"Candor Chasma - False Color\"/>\n",
       " </div>,\n",
       " <div class=\"img\">\n",
       " <img alt=\"Wind and Sand - False Color\" class=\"thumb\" src=\"/spaceimages/images/wallpaper/PIA24077-640x350.jpg\" title=\"Wind and Sand - False Color\"/>\n",
       " </div>,\n",
       " <div class=\"img\">\n",
       " <img alt=\"Claritas Fossae - False Color\" class=\"thumb\" src=\"/spaceimages/images/wallpaper/PIA24076-640x350.jpg\" title=\"Claritas Fossae - False Color\"/>\n",
       " </div>,\n",
       " <div class=\"img\">\n",
       " <img alt=\"Virrat Crater - False Color\" class=\"thumb\" src=\"/spaceimages/images/wallpaper/PIA24075-640x350.jpg\" title=\"Virrat Crater - False Color\"/>\n",
       " </div>,\n",
       " <div class=\"img\">\n",
       " <img alt=\"Claritas Fossae - False Color\" class=\"thumb\" src=\"/spaceimages/images/wallpaper/PIA24074-640x350.jpg\" title=\"Claritas Fossae - False Color\"/>\n",
       " </div>,\n",
       " <div class=\"img\">\n",
       " <img alt=\"Angustus Labyrinthus - False Color\" class=\"thumb\" src=\"/spaceimages/images/wallpaper/PIA24073-640x350.jpg\" title=\"Angustus Labyrinthus - False Color\"/>\n",
       " </div>,\n",
       " <div class=\"img\">\n",
       " <img alt=\"Terra Cimmeria Crater - False Color\" class=\"thumb\" src=\"/spaceimages/images/wallpaper/PIA24072-640x350.jpg\" title=\"Terra Cimmeria Crater - False Color\"/>\n",
       " </div>,\n",
       " <div class=\"img\">\n",
       " <img alt=\"Noachis Terra Crater Dunes - False Color\" class=\"thumb\" src=\"/spaceimages/images/wallpaper/PIA24059-640x350.jpg\" title=\"Noachis Terra Crater Dunes - False Color\"/>\n",
       " </div>,\n",
       " <div class=\"img\">\n",
       " <img alt=\"HiRISE Finds a Dune and Ripples\" class=\"thumb\" src=\"/spaceimages/images/wallpaper/PIA24036-640x350.jpg\" title=\"HiRISE Finds a Dune and Ripples\"/>\n",
       " </div>,\n",
       " <div class=\"img\">\n",
       " <img alt=\"HiRISE Catches an Avalanche on Mars\" class=\"thumb\" src=\"/spaceimages/images/wallpaper/PIA24035-640x350.jpg\" title=\"HiRISE Catches an Avalanche on Mars\"/>\n",
       " </div>,\n",
       " <div class=\"img\">\n",
       " <img alt=\"Crater Dunes - False Color\" class=\"thumb\" src=\"/spaceimages/images/wallpaper/PIA24058-640x350.jpg\" title=\"Crater Dunes - False Color\"/>\n",
       " </div>,\n",
       " <div class=\"img\">\n",
       " <img alt=\"Crater Dunes - False Color\" class=\"thumb\" src=\"/spaceimages/images/wallpaper/PIA24057-640x350.jpg\" title=\"Crater Dunes - False Color\"/>\n",
       " </div>,\n",
       " <div class=\"img\">\n",
       " <img alt=\"Rabe Crater Dunes - False Color\" class=\"thumb\" src=\"/spaceimages/images/wallpaper/PIA24056-640x350.jpg\" title=\"Rabe Crater Dunes - False Color\"/>\n",
       " </div>,\n",
       " <div class=\"img\">\n",
       " <img alt=\"Rabe Crater - False Color\" class=\"thumb\" src=\"/spaceimages/images/wallpaper/PIA24055-640x350.jpg\" title=\"Rabe Crater - False Color\"/>\n",
       " </div>,\n",
       " <div class=\"img\">\n",
       " <img alt=\"Nectaris Fossae - False Color\" class=\"thumb\" src=\"/spaceimages/images/wallpaper/PIA24054-640x350.jpg\" title=\"Nectaris Fossae - False Color\"/>\n",
       " </div>,\n",
       " <div class=\"img\">\n",
       " <img alt=\"Hesperia Planum Crater - False Color\" class=\"thumb\" src=\"/spaceimages/images/wallpaper/PIA24053-640x350.jpg\" title=\"Hesperia Planum Crater - False Color\"/>\n",
       " </div>,\n",
       " <div class=\"img\">\n",
       " <img alt=\"Ariadnes Colles - False Color\" class=\"thumb\" src=\"/spaceimages/images/wallpaper/PIA24052-640x350.jpg\" title=\"Ariadnes Colles - False Color\"/>\n",
       " </div>,\n",
       " <div class=\"img\">\n",
       " <img alt=\"Curiosity\" as=\"\" class=\"thumb\" collection=\"\" july=\"\" of=\"\" rock=\"\" s=\"\" src=\"/spaceimages/images/wallpaper/PIA23977-640x350.jpg\" title=\"Curiosity\"/>\n",
       " </div>,\n",
       " <div class=\"img\">\n",
       " <img alt=\"Curiosity Captures a Spaghetti Western Landscape on Mars\" class=\"thumb\" src=\"/spaceimages/images/wallpaper/PIA23971-640x350.jpg\" title=\"Curiosity Captures a Spaghetti Western Landscape on Mars\"/>\n",
       " </div>,\n",
       " <div class=\"img\">\n",
       " <img alt=\"A Dramatic View of Mars\" class=\"thumb\" mount=\"\" sharp=\"\" src=\"/spaceimages/images/wallpaper/PIA23898-640x350.jpg\" title=\"A Dramatic View of Mars\"/>\n",
       " </div>,\n",
       " <div class=\"img\">\n",
       " <img alt=\"Nirgal Vallis\" class=\"thumb\" src=\"/spaceimages/images/wallpaper/PIA24015-640x350.jpg\" title=\"Nirgal Vallis\"/>\n",
       " </div>,\n",
       " <div class=\"img\">\n",
       " <img alt=\"Hephaestus Fossae\" class=\"thumb\" src=\"/spaceimages/images/wallpaper/PIA24014-640x350.jpg\" title=\"Hephaestus Fossae\"/>\n",
       " </div>,\n",
       " <div class=\"img\">\n",
       " <img alt=\"Athabasca Valles\" class=\"thumb\" src=\"/spaceimages/images/wallpaper/PIA24013-640x350.jpg\" title=\"Athabasca Valles\"/>\n",
       " </div>,\n",
       " <div class=\"img\">\n",
       " <img alt=\"NASA Astronauts on Mars With Helicopter (Illustration)\" class=\"thumb\" src=\"/spaceimages/images/wallpaper/PIA24032-640x350.jpg\" title=\"NASA Astronauts on Mars With Helicopter (Illustration)\"/>\n",
       " </div>,\n",
       " <div class=\"img\">\n",
       " <img alt=\"NASA Astronauts on Mars (Illustration)\" class=\"thumb\" src=\"/spaceimages/images/wallpaper/PIA24031-640x350.jpg\" title=\"NASA Astronauts on Mars (Illustration)\"/>\n",
       " </div>,\n",
       " <div class=\"img\">\n",
       " <img alt=\"Tharsis Volcanics\" class=\"thumb\" src=\"/spaceimages/images/wallpaper/PIA24012-640x350.jpg\" title=\"Tharsis Volcanics\"/>\n",
       " </div>,\n",
       " <div class=\"img\">\n",
       " <img alt=\"Vichada Valles\" class=\"thumb\" src=\"/spaceimages/images/wallpaper/PIA24011-640x350.jpg\" title=\"Vichada Valles\"/>\n",
       " </div>,\n",
       " <div class=\"img\">\n",
       " <img alt=\"Icaria Fossae\" class=\"thumb\" src=\"/spaceimages/images/wallpaper/PIA24010-640x350.jpg\" title=\"Icaria Fossae\"/>\n",
       " </div>]"
      ]
     },
     "execution_count": 14,
     "metadata": {},
     "output_type": "execute_result"
    }
   ],
   "source": [
    "soupier.select(\".img\")"
   ]
  },
  {
   "cell_type": "code",
   "execution_count": 15,
   "metadata": {},
   "outputs": [],
   "source": [
    "mars_image_src = soupier.select(\".img\")[0].img[\"src\"]"
   ]
  },
  {
   "cell_type": "code",
   "execution_count": 16,
   "metadata": {},
   "outputs": [],
   "source": [
    "featured_image_url = base_url + mars_image_src"
   ]
  },
  {
   "cell_type": "code",
   "execution_count": 17,
   "metadata": {},
   "outputs": [
    {
     "data": {
      "text/plain": [
       "'https://www.jpl.nasa.gov/spaceimages/images/wallpaper/PIA24039-640x350.jpg'"
      ]
     },
     "execution_count": 17,
     "metadata": {},
     "output_type": "execute_result"
    }
   ],
   "source": [
    "featured_image_url"
   ]
  },
  {
   "cell_type": "code",
   "execution_count": 18,
   "metadata": {},
   "outputs": [],
   "source": [
    "# the featured image of the mars search was of Saturn not Mars"
   ]
  },
  {
   "cell_type": "markdown",
   "metadata": {},
   "source": [
    "### Mars Facts"
   ]
  },
  {
   "cell_type": "code",
   "execution_count": 19,
   "metadata": {},
   "outputs": [],
   "source": [
    "facts_response = requests.get(r\"https://space-facts.com/mars/\")"
   ]
  },
  {
   "cell_type": "code",
   "execution_count": 20,
   "metadata": {},
   "outputs": [],
   "source": [
    "table = pd.read_html(r\"https://space-facts.com/mars/\")"
   ]
  },
  {
   "cell_type": "code",
   "execution_count": 21,
   "metadata": {},
   "outputs": [
    {
     "data": {
      "text/html": [
       "<div>\n",
       "<style scoped>\n",
       "    .dataframe tbody tr th:only-of-type {\n",
       "        vertical-align: middle;\n",
       "    }\n",
       "\n",
       "    .dataframe tbody tr th {\n",
       "        vertical-align: top;\n",
       "    }\n",
       "\n",
       "    .dataframe thead th {\n",
       "        text-align: right;\n",
       "    }\n",
       "</style>\n",
       "<table border=\"1\" class=\"dataframe\">\n",
       "  <thead>\n",
       "    <tr style=\"text-align: right;\">\n",
       "      <th></th>\n",
       "      <th>0</th>\n",
       "      <th>1</th>\n",
       "    </tr>\n",
       "  </thead>\n",
       "  <tbody>\n",
       "    <tr>\n",
       "      <th>0</th>\n",
       "      <td>Equatorial Diameter:</td>\n",
       "      <td>6,792 km</td>\n",
       "    </tr>\n",
       "    <tr>\n",
       "      <th>1</th>\n",
       "      <td>Polar Diameter:</td>\n",
       "      <td>6,752 km</td>\n",
       "    </tr>\n",
       "    <tr>\n",
       "      <th>2</th>\n",
       "      <td>Mass:</td>\n",
       "      <td>6.39 × 10^23 kg (0.11 Earths)</td>\n",
       "    </tr>\n",
       "    <tr>\n",
       "      <th>3</th>\n",
       "      <td>Moons:</td>\n",
       "      <td>2 (Phobos &amp; Deimos)</td>\n",
       "    </tr>\n",
       "    <tr>\n",
       "      <th>4</th>\n",
       "      <td>Orbit Distance:</td>\n",
       "      <td>227,943,824 km (1.38 AU)</td>\n",
       "    </tr>\n",
       "    <tr>\n",
       "      <th>5</th>\n",
       "      <td>Orbit Period:</td>\n",
       "      <td>687 days (1.9 years)</td>\n",
       "    </tr>\n",
       "    <tr>\n",
       "      <th>6</th>\n",
       "      <td>Surface Temperature:</td>\n",
       "      <td>-87 to -5 °C</td>\n",
       "    </tr>\n",
       "    <tr>\n",
       "      <th>7</th>\n",
       "      <td>First Record:</td>\n",
       "      <td>2nd millennium BC</td>\n",
       "    </tr>\n",
       "    <tr>\n",
       "      <th>8</th>\n",
       "      <td>Recorded By:</td>\n",
       "      <td>Egyptian astronomers</td>\n",
       "    </tr>\n",
       "  </tbody>\n",
       "</table>\n",
       "</div>"
      ],
      "text/plain": [
       "                      0                              1\n",
       "0  Equatorial Diameter:                       6,792 km\n",
       "1       Polar Diameter:                       6,752 km\n",
       "2                 Mass:  6.39 × 10^23 kg (0.11 Earths)\n",
       "3                Moons:            2 (Phobos & Deimos)\n",
       "4       Orbit Distance:       227,943,824 km (1.38 AU)\n",
       "5         Orbit Period:           687 days (1.9 years)\n",
       "6  Surface Temperature:                   -87 to -5 °C\n",
       "7         First Record:              2nd millennium BC\n",
       "8          Recorded By:           Egyptian astronomers"
      ]
     },
     "execution_count": 21,
     "metadata": {},
     "output_type": "execute_result"
    }
   ],
   "source": [
    "table[0]"
   ]
  },
  {
   "cell_type": "code",
   "execution_count": 22,
   "metadata": {},
   "outputs": [],
   "source": [
    "table = table[0]"
   ]
  },
  {
   "cell_type": "code",
   "execution_count": 23,
   "metadata": {},
   "outputs": [],
   "source": [
    "table.rename({0: \"Facts\", 1:\"Mars\"}, axis=1, inplace=True)"
   ]
  },
  {
   "cell_type": "code",
   "execution_count": 24,
   "metadata": {},
   "outputs": [
    {
     "data": {
      "text/html": [
       "<div>\n",
       "<style scoped>\n",
       "    .dataframe tbody tr th:only-of-type {\n",
       "        vertical-align: middle;\n",
       "    }\n",
       "\n",
       "    .dataframe tbody tr th {\n",
       "        vertical-align: top;\n",
       "    }\n",
       "\n",
       "    .dataframe thead th {\n",
       "        text-align: right;\n",
       "    }\n",
       "</style>\n",
       "<table border=\"1\" class=\"dataframe\">\n",
       "  <thead>\n",
       "    <tr style=\"text-align: right;\">\n",
       "      <th></th>\n",
       "      <th>Facts</th>\n",
       "      <th>Mars</th>\n",
       "    </tr>\n",
       "  </thead>\n",
       "  <tbody>\n",
       "    <tr>\n",
       "      <th>0</th>\n",
       "      <td>Equatorial Diameter:</td>\n",
       "      <td>6,792 km</td>\n",
       "    </tr>\n",
       "    <tr>\n",
       "      <th>1</th>\n",
       "      <td>Polar Diameter:</td>\n",
       "      <td>6,752 km</td>\n",
       "    </tr>\n",
       "    <tr>\n",
       "      <th>2</th>\n",
       "      <td>Mass:</td>\n",
       "      <td>6.39 × 10^23 kg (0.11 Earths)</td>\n",
       "    </tr>\n",
       "    <tr>\n",
       "      <th>3</th>\n",
       "      <td>Moons:</td>\n",
       "      <td>2 (Phobos &amp; Deimos)</td>\n",
       "    </tr>\n",
       "    <tr>\n",
       "      <th>4</th>\n",
       "      <td>Orbit Distance:</td>\n",
       "      <td>227,943,824 km (1.38 AU)</td>\n",
       "    </tr>\n",
       "    <tr>\n",
       "      <th>5</th>\n",
       "      <td>Orbit Period:</td>\n",
       "      <td>687 days (1.9 years)</td>\n",
       "    </tr>\n",
       "    <tr>\n",
       "      <th>6</th>\n",
       "      <td>Surface Temperature:</td>\n",
       "      <td>-87 to -5 °C</td>\n",
       "    </tr>\n",
       "    <tr>\n",
       "      <th>7</th>\n",
       "      <td>First Record:</td>\n",
       "      <td>2nd millennium BC</td>\n",
       "    </tr>\n",
       "    <tr>\n",
       "      <th>8</th>\n",
       "      <td>Recorded By:</td>\n",
       "      <td>Egyptian astronomers</td>\n",
       "    </tr>\n",
       "  </tbody>\n",
       "</table>\n",
       "</div>"
      ],
      "text/plain": [
       "                  Facts                           Mars\n",
       "0  Equatorial Diameter:                       6,792 km\n",
       "1       Polar Diameter:                       6,752 km\n",
       "2                 Mass:  6.39 × 10^23 kg (0.11 Earths)\n",
       "3                Moons:            2 (Phobos & Deimos)\n",
       "4       Orbit Distance:       227,943,824 km (1.38 AU)\n",
       "5         Orbit Period:           687 days (1.9 years)\n",
       "6  Surface Temperature:                   -87 to -5 °C\n",
       "7         First Record:              2nd millennium BC\n",
       "8          Recorded By:           Egyptian astronomers"
      ]
     },
     "execution_count": 24,
     "metadata": {},
     "output_type": "execute_result"
    }
   ],
   "source": [
    "table"
   ]
  },
  {
   "cell_type": "code",
   "execution_count": 25,
   "metadata": {},
   "outputs": [],
   "source": [
    "table.to_html(\"table.html\")"
   ]
  },
  {
   "cell_type": "code",
   "execution_count": 26,
   "metadata": {},
   "outputs": [],
   "source": [
    "response_4 = requests.get(r\"https://astrogeology.usgs.gov/search/results?q=hemisphere+enhanced&k1=target&v1=Mars\")"
   ]
  },
  {
   "cell_type": "code",
   "execution_count": 27,
   "metadata": {},
   "outputs": [],
   "source": [
    "soupabc = bs4.BeautifulSoup(response_4.text, \"lxml\")"
   ]
  },
  {
   "cell_type": "code",
   "execution_count": 28,
   "metadata": {},
   "outputs": [
    {
     "data": {
      "text/plain": [
       "[<h3>Cerberus Hemisphere Enhanced</h3>,\n",
       " <h3>Schiaparelli Hemisphere Enhanced</h3>,\n",
       " <h3>Syrtis Major Hemisphere Enhanced</h3>,\n",
       " <h3>Valles Marineris Hemisphere Enhanced</h3>]"
      ]
     },
     "execution_count": 28,
     "metadata": {},
     "output_type": "execute_result"
    }
   ],
   "source": [
    "soupabc.select(\"h3\")"
   ]
  },
  {
   "cell_type": "code",
   "execution_count": 29,
   "metadata": {},
   "outputs": [],
   "source": [
    "hemisphere_dict = [{\"img_url\": r\"https://astropedia.astrogeology.usgs.gov/download/Mars/Viking/cerberus_enhanced.tif/full.jpg\"},\n",
    "                         {\"img_url\": r\"https://astropedia.astrogeology.usgs.gov/download/Mars/Viking/schiaparelli_enhanced.tif/full.jpg\"},\n",
    "                         {\"img_url\": r\"https://astropedia.astrogeology.usgs.gov/download/Mars/Viking/syrtis_major_enhanced.tif/full.jpg\"},\n",
    "                         {\"img_url\": r\"https://astropedia.astrogeology.usgs.gov/download/Mars/Viking/valles_marineris_enhanced.tif/full.jpg\"}]"
   ]
  },
  {
   "cell_type": "code",
   "execution_count": 30,
   "metadata": {},
   "outputs": [],
   "source": [
    "for i, hemisphere in enumerate(soupabc.select('h3')):\n",
    "    hemisphere_dict[i][\"title\"] = hemisphere.text"
   ]
  },
  {
   "cell_type": "code",
   "execution_count": 31,
   "metadata": {},
   "outputs": [
    {
     "data": {
      "text/plain": [
       "[{'img_url': 'https://astropedia.astrogeology.usgs.gov/download/Mars/Viking/cerberus_enhanced.tif/full.jpg',\n",
       "  'title': 'Cerberus Hemisphere Enhanced'},\n",
       " {'img_url': 'https://astropedia.astrogeology.usgs.gov/download/Mars/Viking/schiaparelli_enhanced.tif/full.jpg',\n",
       "  'title': 'Schiaparelli Hemisphere Enhanced'},\n",
       " {'img_url': 'https://astropedia.astrogeology.usgs.gov/download/Mars/Viking/syrtis_major_enhanced.tif/full.jpg',\n",
       "  'title': 'Syrtis Major Hemisphere Enhanced'},\n",
       " {'img_url': 'https://astropedia.astrogeology.usgs.gov/download/Mars/Viking/valles_marineris_enhanced.tif/full.jpg',\n",
       "  'title': 'Valles Marineris Hemisphere Enhanced'}]"
      ]
     },
     "execution_count": 31,
     "metadata": {},
     "output_type": "execute_result"
    }
   ],
   "source": [
    "hemisphere_dict"
   ]
  },
  {
   "cell_type": "code",
   "execution_count": null,
   "metadata": {},
   "outputs": [],
   "source": []
  }
 ],
 "metadata": {
  "kernelspec": {
   "display_name": "Python 3",
   "language": "python",
   "name": "python3"
  },
  "language_info": {
   "codemirror_mode": {
    "name": "ipython",
    "version": 3
   },
   "file_extension": ".py",
   "mimetype": "text/x-python",
   "name": "python",
   "nbconvert_exporter": "python",
   "pygments_lexer": "ipython3",
   "version": "3.7.6"
  }
 },
 "nbformat": 4,
 "nbformat_minor": 4
}
